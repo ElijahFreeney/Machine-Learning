{
  "cells": [
    {
      "cell_type": "markdown",
      "metadata": {
        "id": "view-in-github",
        "colab_type": "text"
      },
      "source": [
        "<a href=\"https://colab.research.google.com/github/ElijahFreeney/Machine-Learning/blob/main/Pulse_ML.ipynb\" target=\"_parent\"><img src=\"https://colab.research.google.com/assets/colab-badge.svg\" alt=\"Open In Colab\"/></a>"
      ]
    },
    {
      "cell_type": "code",
      "source": [
        "import numpy as np\n",
        "import tensorflow as tf\n",
        "import pandas as pd\n",
        "\n",
        "from tensorflow.keras.models import Sequential\n",
        "from tensorflow.keras.layers import Conv2D, MaxPooling2D, Flatten, Dense\n",
        "from skimage.transform import rescale\n",
        "from skimage import util\n",
        "\n",
        "'''\n",
        "# 1024 * 1024 random matrix\n",
        "original_data = np.random.rand(1024,1024)\n",
        "\n",
        "# Scale down by 0.25 = 256 * 256\n",
        "scaled_data = rescale(original_data, 0.25, anti_aliasing=False, channel_axis=False)\n",
        "scaled_data = util.crop(scaled_data, ((0, scaled_data.shape[0]-256), (0, scaled_data.shape[1]-256)))\n",
        "\n",
        "# 1024 * 1024 binary matrix\n",
        "binary_data= np.random.randint(2, size=(1024,1024))\n",
        "\n",
        "# Scale down by 0.25 = 256 * 256\n",
        "scaled_binary_data = rescale(binary_data, 0.25, anti_aliasing=False, order=0, channel_axis=False)\n",
        "scaled_binary_data = (scaled_binary_data > 0).astype(int)\n",
        "scaled_binary_data = util.crop(scaled_binary_data, ((0, scaled_binary_data.shape[0]-256), (0, scaled_binary_data.shape[1]-256)))\n",
        "\n",
        "# Remove # below once csv file is given\n",
        "# data= pd.read_csv('/Users/yonghyunlee/Desktop/L3Harris/csvfile.csv')\n",
        "# X_train = data['feature'].apply(lambda x: np.fromstring(x, sep=',')).to_numpy()\n",
        "# X_train = np.array(X_train.tolist()).reshape(-1, 256, 256, 1)\n",
        "# y_train = data['label'].apply(lambda x: np.fromstring(x, sep=',')).to_numpy()\n",
        "# y_train = np.array(y_train.tolist()).reshape(-1, 256*256)\n",
        "\n",
        "X_train = scaled_data.reshape(1, 256, 256, 1)\n",
        "y_train = scaled_binary_data.reshape(1,256,256,1)\n",
        "\n",
        "'''\n",
        "import os\n",
        "lst = []\n",
        "ct=0\n",
        "for x in os.listdir():\n",
        "    file = open(\"data1.csv\")\n",
        "    f = file.readlines()\n",
        "    file.close()\n",
        "    fdata = list([list(map(float,x.split(',')[:-1])) for x in f])\n",
        "    #fdata=f2\n",
        "    #print(len(fdata),len(fdata[0]))\n",
        "    #print(len(fdata))\n",
        "    lst.append(fdata)\n",
        "    if ct >= 10:\n",
        "        break\n",
        "    ct+=1\n",
        "\n",
        "new_data = np.array(lst)\n",
        "\n",
        "lst2=[]\n",
        "ct=0\n",
        "for x in os.listdir():\n",
        "    file = open(\"learndata1.csv\")\n",
        "    f = file.readlines()\n",
        "    file.close()\n",
        "    fdata2 = list([list(map(float,x.split(',')[:-1])) for x in f])\n",
        "    #fdata2=f2\n",
        "    #print(len(fdata2))\n",
        "    lst2.append(fdata2)\n",
        "    if ct >= 10:\n",
        "        break\n",
        "    ct+=1\n",
        "lst3 = []\n",
        "for x in lst2:\n",
        "    n = np.array(x)\n",
        "    lst3.append(n.flatten())\n",
        "new_truth = np.array(lst3)\n",
        "print(\"Starting Model Training\")\n",
        "print(len(new_data),len(new_data[0]))\n",
        "print(len(new_truth),len(new_truth[0]))\n",
        "with tf.device('/GPU:0'):\n",
        "    model = Sequential([\n",
        "        Conv2D(16, (3,3), activation='relu', input_shape = (1024,1024,1)),\n",
        "        #MaxPooling2D(2,2),\n",
        "        #Conv2D(32, (3,3), activation='relu'),\n",
        "        #MaxPooling2D(2,2),\n",
        "        Flatten(),\n",
        "        #Dense(1024, activation='relu'),\n",
        "        Dense(1024*1024, activation='sigmoid')\n",
        "    ])\n",
        "\n",
        "    model.compile(optimizer = 'adam',\n",
        "                 loss = 'binary_crossentropy',\n",
        "                 metrics = ['accuracy'])\n",
        "\n",
        "    model.summary()\n",
        "\n",
        "\n",
        "\n",
        "    model.fit(new_data, new_truth, epochs=10, batch_size=1)\n",
        "# Use below model.fit instead once using pandas.\n",
        "# model.fit(X_train, y_train, epochs=10, batch_size=1)"
      ],
      "metadata": {
        "id": "PL7Phg4Q0VAh",
        "outputId": "41606009-f2db-4503-8780-768ffb6491bf",
        "colab": {
          "base_uri": "https://localhost:8080/",
          "height": 549
        }
      },
      "execution_count": 2,
      "outputs": [
        {
          "output_type": "stream",
          "name": "stdout",
          "text": [
            "Starting Model Training\n",
            "4 1024\n",
            "4 1048576\n"
          ]
        },
        {
          "output_type": "error",
          "ename": "ResourceExhaustedError",
          "evalue": "ignored",
          "traceback": [
            "\u001b[0;31m---------------------------------------------------------------------------\u001b[0m",
            "\u001b[0;31mResourceExhaustedError\u001b[0m                    Traceback (most recent call last)",
            "\u001b[0;32m<ipython-input-2-476b61e94446>\u001b[0m in \u001b[0;36m<cell line: 76>\u001b[0;34m()\u001b[0m\n\u001b[1;32m     75\u001b[0m \u001b[0mprint\u001b[0m\u001b[0;34m(\u001b[0m\u001b[0mlen\u001b[0m\u001b[0;34m(\u001b[0m\u001b[0mnew_truth\u001b[0m\u001b[0;34m)\u001b[0m\u001b[0;34m,\u001b[0m\u001b[0mlen\u001b[0m\u001b[0;34m(\u001b[0m\u001b[0mnew_truth\u001b[0m\u001b[0;34m[\u001b[0m\u001b[0;36m0\u001b[0m\u001b[0;34m]\u001b[0m\u001b[0;34m)\u001b[0m\u001b[0;34m)\u001b[0m\u001b[0;34m\u001b[0m\u001b[0;34m\u001b[0m\u001b[0m\n\u001b[1;32m     76\u001b[0m \u001b[0;32mwith\u001b[0m \u001b[0mtf\u001b[0m\u001b[0;34m.\u001b[0m\u001b[0mdevice\u001b[0m\u001b[0;34m(\u001b[0m\u001b[0;34m'/GPU:0'\u001b[0m\u001b[0;34m)\u001b[0m\u001b[0;34m:\u001b[0m\u001b[0;34m\u001b[0m\u001b[0;34m\u001b[0m\u001b[0m\n\u001b[0;32m---> 77\u001b[0;31m     model = Sequential([\n\u001b[0m\u001b[1;32m     78\u001b[0m         \u001b[0mConv2D\u001b[0m\u001b[0;34m(\u001b[0m\u001b[0;36m16\u001b[0m\u001b[0;34m,\u001b[0m \u001b[0;34m(\u001b[0m\u001b[0;36m3\u001b[0m\u001b[0;34m,\u001b[0m\u001b[0;36m3\u001b[0m\u001b[0;34m)\u001b[0m\u001b[0;34m,\u001b[0m \u001b[0mactivation\u001b[0m\u001b[0;34m=\u001b[0m\u001b[0;34m'relu'\u001b[0m\u001b[0;34m,\u001b[0m \u001b[0minput_shape\u001b[0m \u001b[0;34m=\u001b[0m \u001b[0;34m(\u001b[0m\u001b[0;36m1024\u001b[0m\u001b[0;34m,\u001b[0m\u001b[0;36m1024\u001b[0m\u001b[0;34m,\u001b[0m\u001b[0;36m1\u001b[0m\u001b[0;34m)\u001b[0m\u001b[0;34m)\u001b[0m\u001b[0;34m,\u001b[0m\u001b[0;34m\u001b[0m\u001b[0;34m\u001b[0m\u001b[0m\n\u001b[1;32m     79\u001b[0m         \u001b[0;31m#MaxPooling2D(2,2),\u001b[0m\u001b[0;34m\u001b[0m\u001b[0;34m\u001b[0m\u001b[0m\n",
            "\u001b[0;32m/usr/local/lib/python3.10/dist-packages/tensorflow/python/trackable/base.py\u001b[0m in \u001b[0;36m_method_wrapper\u001b[0;34m(self, *args, **kwargs)\u001b[0m\n\u001b[1;32m    202\u001b[0m     \u001b[0mself\u001b[0m\u001b[0;34m.\u001b[0m\u001b[0m_self_setattr_tracking\u001b[0m \u001b[0;34m=\u001b[0m \u001b[0;32mFalse\u001b[0m  \u001b[0;31m# pylint: disable=protected-access\u001b[0m\u001b[0;34m\u001b[0m\u001b[0;34m\u001b[0m\u001b[0m\n\u001b[1;32m    203\u001b[0m     \u001b[0;32mtry\u001b[0m\u001b[0;34m:\u001b[0m\u001b[0;34m\u001b[0m\u001b[0;34m\u001b[0m\u001b[0m\n\u001b[0;32m--> 204\u001b[0;31m       \u001b[0mresult\u001b[0m \u001b[0;34m=\u001b[0m \u001b[0mmethod\u001b[0m\u001b[0;34m(\u001b[0m\u001b[0mself\u001b[0m\u001b[0;34m,\u001b[0m \u001b[0;34m*\u001b[0m\u001b[0margs\u001b[0m\u001b[0;34m,\u001b[0m \u001b[0;34m**\u001b[0m\u001b[0mkwargs\u001b[0m\u001b[0;34m)\u001b[0m\u001b[0;34m\u001b[0m\u001b[0;34m\u001b[0m\u001b[0m\n\u001b[0m\u001b[1;32m    205\u001b[0m     \u001b[0;32mfinally\u001b[0m\u001b[0;34m:\u001b[0m\u001b[0;34m\u001b[0m\u001b[0;34m\u001b[0m\u001b[0m\n\u001b[1;32m    206\u001b[0m       \u001b[0mself\u001b[0m\u001b[0;34m.\u001b[0m\u001b[0m_self_setattr_tracking\u001b[0m \u001b[0;34m=\u001b[0m \u001b[0mprevious_value\u001b[0m  \u001b[0;31m# pylint: disable=protected-access\u001b[0m\u001b[0;34m\u001b[0m\u001b[0;34m\u001b[0m\u001b[0m\n",
            "\u001b[0;32m/usr/local/lib/python3.10/dist-packages/keras/src/utils/traceback_utils.py\u001b[0m in \u001b[0;36merror_handler\u001b[0;34m(*args, **kwargs)\u001b[0m\n\u001b[1;32m     68\u001b[0m             \u001b[0;31m# To get the full stack trace, call:\u001b[0m\u001b[0;34m\u001b[0m\u001b[0;34m\u001b[0m\u001b[0m\n\u001b[1;32m     69\u001b[0m             \u001b[0;31m# `tf.debugging.disable_traceback_filtering()`\u001b[0m\u001b[0;34m\u001b[0m\u001b[0;34m\u001b[0m\u001b[0m\n\u001b[0;32m---> 70\u001b[0;31m             \u001b[0;32mraise\u001b[0m \u001b[0me\u001b[0m\u001b[0;34m.\u001b[0m\u001b[0mwith_traceback\u001b[0m\u001b[0;34m(\u001b[0m\u001b[0mfiltered_tb\u001b[0m\u001b[0;34m)\u001b[0m \u001b[0;32mfrom\u001b[0m \u001b[0;32mNone\u001b[0m\u001b[0;34m\u001b[0m\u001b[0;34m\u001b[0m\u001b[0m\n\u001b[0m\u001b[1;32m     71\u001b[0m         \u001b[0;32mfinally\u001b[0m\u001b[0;34m:\u001b[0m\u001b[0;34m\u001b[0m\u001b[0;34m\u001b[0m\u001b[0m\n\u001b[1;32m     72\u001b[0m             \u001b[0;32mdel\u001b[0m \u001b[0mfiltered_tb\u001b[0m\u001b[0;34m\u001b[0m\u001b[0;34m\u001b[0m\u001b[0m\n",
            "\u001b[0;32m/usr/local/lib/python3.10/dist-packages/keras/src/backend.py\u001b[0m in \u001b[0;36mrandom_uniform\u001b[0;34m(self, shape, minval, maxval, dtype, nonce)\u001b[0m\n\u001b[1;32m   2100\u001b[0m             \u001b[0;32mif\u001b[0m \u001b[0mnonce\u001b[0m\u001b[0;34m:\u001b[0m\u001b[0;34m\u001b[0m\u001b[0;34m\u001b[0m\u001b[0m\n\u001b[1;32m   2101\u001b[0m                 \u001b[0mseed\u001b[0m \u001b[0;34m=\u001b[0m \u001b[0mtf\u001b[0m\u001b[0;34m.\u001b[0m\u001b[0mrandom\u001b[0m\u001b[0;34m.\u001b[0m\u001b[0mexperimental\u001b[0m\u001b[0;34m.\u001b[0m\u001b[0mstateless_fold_in\u001b[0m\u001b[0;34m(\u001b[0m\u001b[0mseed\u001b[0m\u001b[0;34m,\u001b[0m \u001b[0mnonce\u001b[0m\u001b[0;34m)\u001b[0m\u001b[0;34m\u001b[0m\u001b[0;34m\u001b[0m\u001b[0m\n\u001b[0;32m-> 2102\u001b[0;31m             return tf.random.stateless_uniform(\n\u001b[0m\u001b[1;32m   2103\u001b[0m                 \u001b[0mshape\u001b[0m\u001b[0;34m=\u001b[0m\u001b[0mshape\u001b[0m\u001b[0;34m,\u001b[0m\u001b[0;34m\u001b[0m\u001b[0;34m\u001b[0m\u001b[0m\n\u001b[1;32m   2104\u001b[0m                 \u001b[0mminval\u001b[0m\u001b[0;34m=\u001b[0m\u001b[0mminval\u001b[0m\u001b[0;34m,\u001b[0m\u001b[0;34m\u001b[0m\u001b[0;34m\u001b[0m\u001b[0m\n",
            "\u001b[0;31mResourceExhaustedError\u001b[0m: {{function_node __wrapped__StatelessRandomUniformV2_device_/job:localhost/replica:0/task:0/device:GPU:0}} OOM when allocating tensor with shape[16711744,1048576] and type float on /job:localhost/replica:0/task:0/device:GPU:0 by allocator GPU_0_bfc [Op:StatelessRandomUniformV2] name: "
          ]
        }
      ]
    },
    {
      "cell_type": "code",
      "source": [],
      "metadata": {
        "id": "mwF8rsPU3UKP"
      },
      "execution_count": null,
      "outputs": []
    }
  ],
  "metadata": {
    "colab": {
      "name": "Welcome To Colaboratory",
      "provenance": [],
      "gpuType": "T4",
      "include_colab_link": true
    },
    "kernelspec": {
      "display_name": "Python 3",
      "name": "python3"
    },
    "accelerator": "GPU"
  },
  "nbformat": 4,
  "nbformat_minor": 0
}