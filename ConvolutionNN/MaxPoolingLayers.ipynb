{
  "cells": [
    {
      "cell_type": "markdown",
      "metadata": {
        "id": "view-in-github",
        "colab_type": "text"
      },
      "source": [
        "<a href=\"https://colab.research.google.com/github/ElijahFreeney/Machine-Learning/blob/main/ConvolutionNN/MaxPoolingLayers.ipynb\" target=\"_parent\"><img src=\"https://colab.research.google.com/assets/colab-badge.svg\" alt=\"Open In Colab\"/></a>"
      ]
    },
    {
      "cell_type": "markdown",
      "metadata": {
        "id": "ExGRm8Bed8fH"
      },
      "source": [
        "<a href=\"https://colab.research.google.com/github/khanhlvg/tflite_raspberry_pi/blob/main/object_detection/Train_custom_model_tutorial.ipynb\" target=\"_parent\"><img src=\"https://colab.research.google.com/assets/colab-badge.svg\" alt=\"Open In Colab\"/></a>"
      ]
    },
    {
      "cell_type": "markdown",
      "metadata": {
        "id": "prQ86DdtD317"
      },
      "source": [
        "Import the required packages."
      ]
    },
    {
      "cell_type": "code",
      "execution_count": 1,
      "metadata": {
        "id": "l4QQTXHHATDS"
      },
      "outputs": [],
      "source": [
        "import numpy as np\n",
        "import pandas as pd\n",
        "import tensorflow as tf\n",
        "from tensorflow import keras\n",
        "from keras.layers import Conv2D, MaxPooling2D, Flatten, Dense\n",
        "from sklearn.model_selection import train_test_split"
      ]
    },
    {
      "cell_type": "markdown",
      "metadata": {
        "id": "3g6aQvXsD78P"
      },
      "source": [
        "### Load data from spectograms\n",
        "\n"
      ]
    },
    {
      "cell_type": "code",
      "execution_count": 2,
      "metadata": {
        "colab": {
          "base_uri": "https://localhost:8080/"
        },
        "id": "8AGg7D4JAV62",
        "outputId": "2ee310f0-9a9c-4046-93ba-f0fc45a35fe0"
      },
      "outputs": [
        {
          "output_type": "stream",
          "name": "stdout",
          "text": [
            "Data Shape:\n",
            "(1023, 1025, 1)\n",
            "(1023, 1025, 1)\n",
            "Data split for training and testing\n",
            "Model object initialized\n",
            "Model compiled\n",
            "Model: \"sequential\"\n",
            "_________________________________________________________________\n",
            " Layer (type)                Output Shape              Param #   \n",
            "=================================================================\n",
            " conv2d (Conv2D)             (None, 1021, 1023, 16)    160       \n",
            "                                                                 \n",
            " max_pooling2d (MaxPooling2  (None, 510, 511, 16)      0         \n",
            " D)                                                              \n",
            "                                                                 \n",
            " conv2d_1 (Conv2D)           (None, 508, 509, 16)      2320      \n",
            "                                                                 \n",
            " max_pooling2d_1 (MaxPoolin  (None, 254, 254, 16)      0         \n",
            " g2D)                                                            \n",
            "                                                                 \n",
            " conv2d_2 (Conv2D)           (None, 252, 252, 16)      2320      \n",
            "                                                                 \n",
            " max_pooling2d_2 (MaxPoolin  (None, 126, 126, 16)      0         \n",
            " g2D)                                                            \n",
            "                                                                 \n",
            " conv2d_3 (Conv2D)           (None, 124, 124, 16)      2320      \n",
            "                                                                 \n",
            " max_pooling2d_3 (MaxPoolin  (None, 62, 62, 16)        0         \n",
            " g2D)                                                            \n",
            "                                                                 \n",
            " conv2d_4 (Conv2D)           (None, 60, 60, 16)        2320      \n",
            "                                                                 \n",
            " max_pooling2d_4 (MaxPoolin  (None, 30, 30, 16)        0         \n",
            " g2D)                                                            \n",
            "                                                                 \n",
            " flatten (Flatten)           (None, 14400)             0         \n",
            "                                                                 \n",
            " dense (Dense)               (None, 61504)             885719104 \n",
            "                                                                 \n",
            "=================================================================\n",
            "Total params: 885728544 (3.30 GB)\n",
            "Trainable params: 885728544 (3.30 GB)\n",
            "Non-trainable params: 0 (0.00 Byte)\n",
            "_________________________________________________________________\n"
          ]
        }
      ],
      "source": [
        "import numpy as np\n",
        "import pandas as pd\n",
        "import tensorflow as tf\n",
        "from tensorflow import keras\n",
        "from keras.layers import Conv2D, MaxPooling2D, Flatten, Dense\n",
        "from sklearn.model_selection import train_test_split\n",
        "\n",
        "## Load data from spectrograms\n",
        "for (x =1, x <= 10, x++)\n",
        "spectrogram_df = pd.read_csv(f'./learndata{x}.csv')\n",
        "label_df = pd.read_csv(f'./truthdata{x}.csv')\n",
        "\n",
        "## Convert data to numpy arrays\n",
        "spectrogram = np.array(spectrogram_df)\n",
        "label = np.array(label_df)\n",
        "\n",
        "## Add a dimension to the spectrogram\n",
        "spectrogram = np.expand_dims(spectrogram, axis=-1)\n",
        "label = np.expand_dims(label, axis=-1)\n",
        "\n",
        "print(\"Data Shape:\")\n",
        "print(spectrogram.shape)\n",
        "print(label.shape)\n",
        "\n",
        "## Split data into training and testing sets\n",
        "spectrogram_train, spectrogram_test, label_train, label_test = train_test_split(\n",
        "    spectrogram, label, test_size=0.2\n",
        ")\n",
        "print(\"Data split for training and testing\")\n",
        "\n",
        "model = keras.Sequential(\n",
        "    [\n",
        "        Conv2D(16, (3, 3), activation=\"relu\", input_shape=(1023, 1025, 1)),\n",
        "        MaxPooling2D(2, 2),\n",
        "        Conv2D(16, (3, 3), activation=\"relu\", input_shape=(510, 511, 64)),\n",
        "        MaxPooling2D(2, 2),\n",
        "        Conv2D(16, (3, 3), activation=\"relu\", input_shape=(254, 254, 16)),\n",
        "        MaxPooling2D(2, 2),\n",
        "        Conv2D(16, (3, 3), activation=\"relu\", input_shape=(62, 62, 16)),\n",
        "        MaxPooling2D(2, 2),\n",
        "        Conv2D(16, (3, 3), activation=\"relu\", input_shape=(31, 31, 16)),\n",
        "        MaxPooling2D(2, 2),\n",
        "        Flatten(),\n",
        "        Dense(61504, activation=\"sigmoid\"),\n",
        "        ## Sqrt(21504) = 248\n",
        "        ## Image size 248 * 248\n",
        "    ]\n",
        ")\n",
        "\n",
        "print(\"Model object initialized\")\n",
        "\n",
        "# model.compile(optimizer=\"adam\", loss=\"binary_crossentropy\", metrics=[\"accuracy\"])\n",
        "\n",
        "print(\"Model compiled\")\n",
        "\n",
        "model.summary()\n",
        "\n",
        "# model.fit(spectrogram_train, label_train, batch_size=1, epochs=1)"
      ]
    },
    {
      "cell_type": "code",
      "execution_count": null,
      "metadata": {
        "id": "GZOojrDHAY1J"
      },
      "outputs": [],
      "source": [
        "spec = model_spec.get('efficientdet_lite0')"
      ]
    }
  ],
  "metadata": {
    "accelerator": "GPU",
    "colab": {
      "name": "Model Maker Object Detection for Android Figurine",
      "provenance": [],
      "include_colab_link": true
    },
    "kernelspec": {
      "display_name": "Python 3",
      "name": "python3"
    },
    "language_info": {
      "name": "python"
    }
  },
  "nbformat": 4,
  "nbformat_minor": 0
}